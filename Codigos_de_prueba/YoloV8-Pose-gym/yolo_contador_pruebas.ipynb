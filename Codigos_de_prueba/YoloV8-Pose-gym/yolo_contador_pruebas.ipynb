{
 "cells": [
  {
   "cell_type": "code",
   "execution_count": 2,
   "metadata": {},
   "outputs": [
    {
     "name": "stdout",
     "output_type": "stream",
     "text": [
      "Video frame is empty or video processing has been successfully completed.\n"
     ]
    }
   ],
   "source": [
    "import cv2\n",
    "from ultralytics import YOLO, solutions\n",
    "\n",
    "# Cargar el modelo YOLO para pose estimation\n",
    "model = YOLO(\"yolov8x-pose.pt\")\n",
    "\n",
    "# Abrir el video de entrenamiento\n",
    "cap = cv2.VideoCapture(\"C:/Users/USUARIO/Proyectos_IA/Datasets/videos_gym/press_declinado/correcto/press_declinado_correcto3.mp4\")\n",
    "assert cap.isOpened(), \"Error reading video file\"\n",
    "w, h, fps = (int(cap.get(x)) for x in (cv2.CAP_PROP_FRAME_WIDTH, cv2.CAP_PROP_FRAME_HEIGHT, cv2.CAP_PROP_FPS))\n",
    "\n",
    "# Inicializar el escritor de video\n",
    "video_writer = cv2.VideoWriter(\"workouts_press_banca.avi\", cv2.VideoWriter_fourcc(*\"mp4v\"), fps, (w, h))\n",
    "\n",
    "# Configuración del objeto de conteo, ahora para press de banca\n",
    "gym_object = solutions.AIGym(\n",
    "    line_thickness=2,\n",
    "    view_img=True,\n",
    "    kpts_to_check=[6, 8, 10, 5, 7, 9],  # Puntos de los brazos para el press de banca\n",
    ")\n",
    "\n",
    "# Variables para el conteo de repeticiones\n",
    "reps_count = 0\n",
    "down = False\n",
    "\n",
    "while cap.isOpened():\n",
    "    success, im0 = cap.read()\n",
    "    if not success:\n",
    "        print(\"Video frame is empty or video processing has been successfully completed.\")\n",
    "        break\n",
    "\n",
    "    # Detectar poses con YOLO\n",
    "    results = model.track(im0, verbose=False)\n",
    "    \n",
    "    # Verificar si hay resultados y puntos clave detectados\n",
    "    for result in results:\n",
    "        if result.keypoints is not None and len(result.keypoints) >= 11:\n",
    "            keypoints = result.keypoints  # Acceder a los puntos clave del resultado\n",
    "            \n",
    "            # Puntos clave del brazo izquierdo (5, 7, 9) y brazo derecho (6, 8, 10)\n",
    "            shoulder_left, elbow_left, wrist_left = keypoints[5], keypoints[7], keypoints[9]\n",
    "            shoulder_right, elbow_right, wrist_right = keypoints[6], keypoints[8], keypoints[10]\n",
    "            \n",
    "            # Lógica para contar repeticiones\n",
    "            if elbow_left[1] > shoulder_left[1] and elbow_right[1] > shoulder_right[1]:  # Codos por debajo de los hombros\n",
    "                down = True\n",
    "            elif down and elbow_left[1] < shoulder_left[1] and elbow_right[1] < shoulder_right[1]:  # Codos por encima de los hombros\n",
    "                reps_count += 1\n",
    "                print(f\"Repeticiones: {reps_count}\")\n",
    "                down = False\n",
    "\n",
    "    # Añadir la lógica de conteo al video\n",
    "    im0 = gym_object.start_counting(im0, results)\n",
    "    video_writer.write(im0)\n",
    "\n",
    "# Cerrar y liberar recursos\n",
    "cv2.destroyAllWindows()\n",
    "video_writer.release()"
   ]
  }
 ],
 "metadata": {
  "kernelspec": {
   "display_name": "IA_env",
   "language": "python",
   "name": "python3"
  },
  "language_info": {
   "codemirror_mode": {
    "name": "ipython",
    "version": 3
   },
   "file_extension": ".py",
   "mimetype": "text/x-python",
   "name": "python",
   "nbconvert_exporter": "python",
   "pygments_lexer": "ipython3",
   "version": "3.12.4"
  }
 },
 "nbformat": 4,
 "nbformat_minor": 2
}
